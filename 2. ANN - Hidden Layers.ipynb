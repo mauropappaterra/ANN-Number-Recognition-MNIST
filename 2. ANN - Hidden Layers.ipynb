{
 "cells": [
  {
   "cell_type": "markdown",
   "metadata": {},
   "source": [
    "## Setup Python environment\n",
    "Import tensorflow, keras, matplotlib and numby"
   ]
  },
  {
   "cell_type": "code",
   "execution_count": 1,
   "metadata": {},
   "outputs": [],
   "source": [
    "import tensorflow as tf\n",
    "from tensorflow import keras\n",
    "import matplotlib.pyplot as plot\n",
    "import numpy as np\n",
    "import seaborn as sb"
   ]
  },
  {
   "cell_type": "markdown",
   "metadata": {},
   "source": [
    "## Prepare data\n",
    "Import MNIST dataset from Kera's library"
   ]
  },
  {
   "cell_type": "code",
   "execution_count": 2,
   "metadata": {},
   "outputs": [],
   "source": [
    "(x_train, y_train),(x_test, y_test) = keras.datasets.mnist.load_data()"
   ]
  },
  {
   "cell_type": "code",
   "execution_count": 3,
   "metadata": {},
   "outputs": [],
   "source": [
    "x_train_f = x_train.reshape(len(x_train), 28 * 28) / 255\n",
    "x_test_f = x_test.reshape(len(x_test), 28 * 28) / 255"
   ]
  },
  {
   "cell_type": "markdown",
   "metadata": {},
   "source": [
    "## Create ANN with a hidden layer\n",
    "Create and compile ANN with hidden layer"
   ]
  },
  {
   "cell_type": "code",
   "execution_count": 4,
   "metadata": {},
   "outputs": [],
   "source": [
    "ann_hidden = keras.Sequential([\n",
    "    keras.layers.Dense(100, input_shape=(784,),activation=\"relu\"), # input layer\n",
    "    keras.layers.Dense(10, activation=\"sigmoid\") # hidden layer\n",
    "])\n",
    "\n",
    "ann_hidden.compile (optimizer='adam', loss='sparse_categorical_crossentropy', metrics=['accuracy'])"
   ]
  },
  {
   "cell_type": "markdown",
   "metadata": {},
   "source": [
    "Train ANN"
   ]
  },
  {
   "cell_type": "code",
   "execution_count": 5,
   "metadata": {},
   "outputs": [
    {
     "name": "stdout",
     "output_type": "stream",
     "text": [
      "Epoch 1/7\n",
      "1875/1875 [==============================] - 15s 8ms/step - loss: 0.2912 - accuracy: 0.9184\n",
      "Epoch 2/7\n",
      "1875/1875 [==============================] - 14s 7ms/step - loss: 0.1314 - accuracy: 0.9619\n",
      "Epoch 3/7\n",
      "1875/1875 [==============================] - 11s 6ms/step - loss: 0.0942 - accuracy: 0.9721\n",
      "Epoch 4/7\n",
      "1875/1875 [==============================] - 13s 7ms/step - loss: 0.0719 - accuracy: 0.9786\n",
      "Epoch 5/7\n",
      "1875/1875 [==============================] - 14s 7ms/step - loss: 0.0583 - accuracy: 0.9821 0s - loss: 0.0\n",
      "Epoch 6/7\n",
      "1875/1875 [==============================] - 11s 6ms/step - loss: 0.0473 - accuracy: 0.9857\n",
      "Epoch 7/7\n",
      "1875/1875 [==============================] - 11s 6ms/step - loss: 0.0401 - accuracy: 0.9877\n"
     ]
    },
    {
     "data": {
      "text/plain": [
       "<tensorflow.python.keras.callbacks.History at 0x1ebfc8e1760>"
      ]
     },
     "execution_count": 5,
     "metadata": {},
     "output_type": "execute_result"
    }
   ],
   "source": [
    "ann_hidden.fit(x_train_f, y_train, epochs=7)"
   ]
  },
  {
   "cell_type": "markdown",
   "metadata": {},
   "source": [
    "Evaluate model"
   ]
  },
  {
   "cell_type": "code",
   "execution_count": 6,
   "metadata": {},
   "outputs": [
    {
     "name": "stdout",
     "output_type": "stream",
     "text": [
      "313/313 [==============================] - 1s 4ms/step - loss: 0.0826 - accuracy: 0.9750\n"
     ]
    },
    {
     "data": {
      "text/plain": [
       "[0.08258827775716782, 0.9750000238418579]"
      ]
     },
     "execution_count": 6,
     "metadata": {},
     "output_type": "execute_result"
    }
   ],
   "source": [
    "ann_hidden.evaluate(x_test_f, y_test)"
   ]
  },
  {
   "cell_type": "markdown",
   "metadata": {},
   "source": [
    "Create predictions with new model"
   ]
  },
  {
   "cell_type": "code",
   "execution_count": 7,
   "metadata": {},
   "outputs": [],
   "source": [
    "predictions_hidden = ann_hidden.predict(x_test_f)\n",
    "predictions_hidden_labels = [np.argmax(prediction) for prediction in predictions_hidden]"
   ]
  },
  {
   "cell_type": "code",
   "execution_count": 8,
   "metadata": {},
   "outputs": [
    {
     "data": {
      "text/plain": [
       "<matplotlib.image.AxesImage at 0x1ebffd3fa90>"
      ]
     },
     "execution_count": 8,
     "metadata": {},
     "output_type": "execute_result"
    },
    {
     "data": {
      "image/png": "[encoded data removed]",
      "text/plain": [
       "<Figure size 288x288 with 1 Axes>"
      ]
     },
     "metadata": {
      "needs_background": "light"
     },
     "output_type": "display_data"
    }
   ],
   "source": [
    "sample = 0\n",
    "plot.matshow(x_test[sample])"
   ]
  },
  {
   "cell_type": "code",
   "execution_count": 9,
   "metadata": {},
   "outputs": [
    {
     "data": {
      "text/plain": [
       "7"
      ]
     },
     "execution_count": 9,
     "metadata": {},
     "output_type": "execute_result"
    }
   ],
   "source": [
    "predictions_hidden_labels[sample]"
   ]
  },
  {
   "cell_type": "markdown",
   "metadata": {},
   "source": [
    "## Plot confusion matrix"
   ]
  },
  {
   "cell_type": "code",
   "execution_count": 10,
   "metadata": {},
   "outputs": [
    {
     "data": {
      "text/plain": [
       "<AxesSubplot:>"
      ]
     },
     "execution_count": 10,
     "metadata": {},
     "output_type": "execute_result"
    },
    {
     "data": {
      "image/png": "[encoded data removed]",
      "text/plain": [
       "<Figure size 720x504 with 2 Axes>"
      ]
     },
     "metadata": {
      "needs_background": "light"
     },
     "output_type": "display_data"
    }
   ],
   "source": [
    "confusion_matrix_hidden = tf.math.confusion_matrix(labels=y_test, predictions=predictions_hidden_labels)\n",
    "\n",
    "plot.figure(figsize = (10,7))\n",
    "plot.xlabel('Predicted Value')\n",
    "plot.ylabel('Truth Value')\n",
    "sb.heatmap (confusion_matrix_hidden, annot=True, fmt='d')"
   ]
  }
 ],
 "metadata": {
  "kernelspec": {
   "display_name": "Python 3",
   "language": "python",
   "name": "python3"
  },
  "language_info": {
   "codemirror_mode": {
    "name": "ipython",
    "version": 3
   },
   "file_extension": ".py",
   "mimetype": "text/x-python",
   "name": "python",
   "nbconvert_exporter": "python",
   "pygments_lexer": "ipython3",
   "version": "3.8.5"
  }
 },
 "nbformat": 4,
 "nbformat_minor": 4
}
